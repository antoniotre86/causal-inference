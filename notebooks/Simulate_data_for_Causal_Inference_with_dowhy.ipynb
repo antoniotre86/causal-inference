{
  "nbformat": 4,
  "nbformat_minor": 0,
  "metadata": {
    "colab": {
      "name": "Simulate data for Causal Inference with dowhy.ipynb",
      "provenance": [],
      "authorship_tag": "ABX9TyMR6/gkiZtoo5nEYh+Yf5ff",
      "include_colab_link": true
    },
    "kernelspec": {
      "name": "python3",
      "display_name": "Python 3"
    },
    "language_info": {
      "name": "python"
    }
  },
  "cells": [
    {
      "cell_type": "markdown",
      "metadata": {
        "id": "view-in-github",
        "colab_type": "text"
      },
      "source": [
        "<a href=\"https://colab.research.google.com/github/antoniotre86/causal-inference/blob/main/notebooks/Simulate_data_for_Causal_Inference_with_dowhy.ipynb\" target=\"_parent\"><img src=\"https://colab.research.google.com/assets/colab-badge.svg\" alt=\"Open In Colab\"/></a>"
      ]
    },
    {
      "cell_type": "code",
      "metadata": {
        "id": "A9QD-BBS33yw"
      },
      "source": [
        "import pandas as pd\n",
        "import numpy as np\n",
        "\n",
        "from google.colab import drive"
      ],
      "execution_count": 2,
      "outputs": []
    },
    {
      "cell_type": "code",
      "metadata": {
        "colab": {
          "base_uri": "https://localhost:8080/"
        },
        "id": "jpF93Wr64OUF",
        "outputId": "894712b8-f201-475f-cb73-83cf49599315"
      },
      "source": [
        "drive.mount(\"/drive\")"
      ],
      "execution_count": 3,
      "outputs": [
        {
          "output_type": "stream",
          "name": "stdout",
          "text": [
            "Mounted at /drive\n"
          ]
        }
      ]
    },
    {
      "cell_type": "markdown",
      "metadata": {
        "id": "VUaYMF1B4BTc"
      },
      "source": [
        "# Scenario 1\n",
        "\n",
        "We randomly generate *occupation* and *age_years* first as they don't depend on other variables. \n",
        "\n",
        "We then generate *exercise* based on *occupation* and *age* assuming that:\n",
        "- stormtroopers exercise more than radar technicians\n",
        "- people under 40 exercise more than people aged 40 or older\n",
        "\n",
        "We generate the *healty_diet* variable based on *occupation*, assuming radar technicians have a better diet.\n",
        "\n",
        "Finally, we generate *cholesterol* levels assuming that:\n",
        "- it's lower with an *healthy diet* and *exercise*\n",
        "- it's lower for people less than 40 years of *age*."
      ]
    },
    {
      "cell_type": "code",
      "metadata": {
        "id": "q6PwPx6w4AOk"
      },
      "source": [
        "np.random.seed(333)\n",
        "\n",
        "N = 1000\n",
        "\n",
        "data_s1 = pd.DataFrame(columns=[\"exercise\", \"cholesterol\", \"occupation\", \"age_years\", \"healthy_diet\"])\n",
        "\n",
        "data_s1[\"occupation\"] = np.random.choice([\"stormtrooper\", \"radar_technician\"], N)\n",
        "data_s1[\"age_years\"] = (np.random.normal(40, 10, N) / 10).astype(int) * 10\n",
        "\n",
        "# Stormtroopers get more exercise\n",
        "data_s1[\"exercise\"] = np.random.randn(N) \\\n",
        "  + 1*(data_s1[\"occupation\"] == \"stormtrooper\") \\\n",
        "  + -1*(data_s1[\"occupation\"] == \"radar_technician\")\n",
        "# People under 40 get more exercise\n",
        "data_s1[\"exercise\"] += 1*(data_s1[\"age_years\"] < 40)\n",
        "data_s1[\"exercise\"] = (data_s1[\"exercise\"] > data_s1[\"exercise\"].mean())\n",
        "\n",
        "\n",
        "# Stormtroopers have a poorer diet\n",
        "data_s1[\"healthy_diet\"] = np.random.rand(N) < (0.1*(data_s1[\"occupation\"] == \"stormtrooper\") \n",
        "                                              + 0.9*(data_s1[\"occupation\"] == \"radar_technician\"))\n",
        "\n",
        "# Base level of cholesterol (random)\n",
        "data_s1[\"cholesterol\"] = 5 + np.random.randn(N)**2 \n",
        "\n",
        "# A healthy diet gives lower cholesterol\n",
        "data_s1[\"cholesterol\"] += -3*data_s1[\"healthy_diet\"] \n",
        "\n",
        "# People under 40 have lower cholesterol\n",
        "data_s1[\"cholesterol\"] += -1*(data_s1[\"age_years\"] < 40)\n",
        "\n",
        "\n",
        "# Exercise has the effect of reducing cholesterol\n",
        "actual_effect_s1 = -1\n",
        "data_s1[\"cholesterol\"] += actual_effect_s1*data_s1[\"exercise\"]"
      ],
      "execution_count": 5,
      "outputs": []
    },
    {
      "cell_type": "markdown",
      "metadata": {
        "id": "-GkBEbNP4O2x"
      },
      "source": [
        "## Save"
      ]
    },
    {
      "cell_type": "code",
      "metadata": {
        "id": "fPJmpz894r97"
      },
      "source": [
        "data_s1.to_csv(\"/drive/My Drive/Colab Notebooks/data/scenario_1.csv\", header=True, index=False)"
      ],
      "execution_count": 7,
      "outputs": []
    },
    {
      "cell_type": "markdown",
      "metadata": {
        "id": "4UB4uYXH5OtB"
      },
      "source": [
        "# Scenario 2: exercise does not affect cholesterol"
      ]
    },
    {
      "cell_type": "code",
      "metadata": {
        "id": "3NAWiZNU5FPW"
      },
      "source": [
        "np.random.seed(333)\n",
        "\n",
        "N = 1000\n",
        "\n",
        "data_s2 = data_s1.copy()\n",
        "\n",
        "# Base level of cholesterol (random)\n",
        "data_s2[\"cholesterol\"] = 5 + np.random.randn(N)**2 \n",
        "\n",
        "# A healthy diet gives lower cholesterol\n",
        "data_s2[\"cholesterol\"] += -3*data_s2[\"healthy_diet\"] \n",
        "\n",
        "# People under 40 have lower cholesterol\n",
        "data_s2[\"cholesterol\"] += -1*(data_s2[\"age_years\"] < 40)\n",
        "\n",
        "\n",
        "# Exercise does not affect cholesterol\n",
        "actual_effect_s2 = 0.0\n",
        "data_s2[\"cholesterol\"] += actual_effect_s2*data_s2[\"exercise\"]"
      ],
      "execution_count": 10,
      "outputs": []
    },
    {
      "cell_type": "markdown",
      "metadata": {
        "id": "UIJ-6_nc5Slv"
      },
      "source": [
        "## Save"
      ]
    },
    {
      "cell_type": "code",
      "metadata": {
        "id": "9aCvwP7y5Rhu"
      },
      "source": [
        "data_s2.to_csv(\"/drive/My Drive/Colab Notebooks/data/scenario_2.csv\", header=True, index=False)"
      ],
      "execution_count": 11,
      "outputs": []
    },
    {
      "cell_type": "code",
      "metadata": {
        "id": "_k6onG3L5VpN"
      },
      "source": [
        ""
      ],
      "execution_count": null,
      "outputs": []
    }
  ]
}